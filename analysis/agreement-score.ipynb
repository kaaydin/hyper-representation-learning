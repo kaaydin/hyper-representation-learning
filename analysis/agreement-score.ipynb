{
 "cells": [
  {
   "cell_type": "markdown",
   "metadata": {},
   "source": [
    "# Model Zoo Analysis - Agreement Score"
   ]
  },
  {
   "cell_type": "markdown",
   "metadata": {},
   "source": [
    "## 1. Import libraries"
   ]
  },
  {
   "cell_type": "code",
   "execution_count": 43,
   "metadata": {},
   "outputs": [],
   "source": [
    "## Import libraries\n",
    "\n",
    "import numpy as np\n",
    "import pandas as pd\n",
    "from itertools import combinations\n",
    "\n",
    "import os\n",
    "import json\n",
    "\n",
    "import random"
   ]
  },
  {
   "cell_type": "markdown",
   "metadata": {},
   "source": [
    "## 2. Set Global Variables"
   ]
  },
  {
   "cell_type": "code",
   "execution_count": 3,
   "metadata": {},
   "outputs": [],
   "source": [
    "## Set paths\n",
    "\n",
    "FT_BERTS = \"/Users/kaanaydin/Library/CloudStorage/GoogleDrive-implanguagetransformers@gmail.com/My Drive/imp-project/question-answering/finetuned-berts\""
   ]
  },
  {
   "cell_type": "markdown",
   "metadata": {},
   "source": [
    "## 2. Retrieve scores"
   ]
  },
  {
   "cell_type": "code",
   "execution_count": 84,
   "metadata": {},
   "outputs": [],
   "source": [
    "def create_df_with_results(path):\n",
    "    \n",
    "    ## Get all models\n",
    "    models = os.listdir(FT_BERTS)\n",
    "\n",
    "    ## Remove .DS_Store (if available)\n",
    "    if '.DS_Store' in models:\n",
    "        models.remove('.DS_Store')\n",
    "\n",
    "    ## Retrieve results (from last epoch)\n",
    "\n",
    "    results = []\n",
    "\n",
    "    for model in models:\n",
    "        \n",
    "        ## Generate path to result file for respective model\n",
    "        ### new_path = os.path.join(path, model, \"results\")\n",
    "        \n",
    "        ## Open json file\n",
    "        ### with open(new_path, 'r') as file:\n",
    "        ###    data = json.load(file)\n",
    "\n",
    "        ## Get results from last epoch\n",
    "        ### result = data['epoch_results'][-1]\n",
    "\n",
    "        ## Put to numpy\n",
    "        ### result = np.array(result)\n",
    "\n",
    "        ## Append to results list\n",
    "        ### results.append(result)\n",
    "\n",
    "        ## Random list of numbers -> to be deleted once we have the results\n",
    "        random_list = [random.randint(0, 1) for _ in range(50)]\n",
    "\n",
    "        ## Append to results list -> to be deleted once we have the results\n",
    "        results.append(random_list)\n",
    "\n",
    "    ## Create dataframe of models and results\n",
    "    df = pd.DataFrame({'Models': models,'Results': results})\n",
    "\n",
    "    return df"
   ]
  },
  {
   "cell_type": "code",
   "execution_count": 85,
   "metadata": {},
   "outputs": [],
   "source": [
    "def create_df_extended(df):\n",
    "    \n",
    "    ## Create all possible combinations of models\n",
    "    combs = list(combinations(df['Models'], 2))\n",
    "    \n",
    "    ## Create dataframe of combinations\n",
    "    df_combinations = pd.DataFrame(combs, columns=['Model1', 'Model2'])\n",
    "    \n",
    "    ## Retrieve the results of the models for each row \n",
    "    df_combinations['Results1'] = df_combinations['Model1'].apply(lambda x: df[df['Models'] == x].Results.values[0])\n",
    "    df_combinations['Results2'] = df_combinations['Model2'].apply(lambda x: df[df['Models'] == x].Results.values[0])\n",
    "    \n",
    "    return df_combinations"
   ]
  },
  {
   "cell_type": "code",
   "execution_count": 86,
   "metadata": {},
   "outputs": [],
   "source": [
    "def calculate_agreement_score(df):\n",
    "\n",
    "    agreement_scores = []\n",
    "    agreement_score = []\n",
    "    \n",
    "\n",
    "    ## Iterate over rows\n",
    "    for index, row in df.iterrows():\n",
    "        \n",
    "        ## Calculate agreement score\n",
    "        results1 = row['Results1']\n",
    "        results2 = row['Results2']\n",
    "\n",
    "        ## Calculate agreement scores\n",
    "        agreement_scores_row = []\n",
    "\n",
    "        for idx in range(len(results1)):\n",
    "            if results1[idx] == results2[idx]:\n",
    "                agreement_scores_row.append(1)\n",
    "            else:\n",
    "                agreement_scores_row.append(0)\n",
    "        \n",
    "        ## Calculate average agreement score\n",
    "        agreement_score_row = np.mean(agreement_scores_row)\n",
    "\n",
    "        ## Append to agreement scores list\n",
    "        agreement_scores.append(agreement_scores_row)\n",
    "        agreement_score.append(agreement_score_row)\n",
    "    \n",
    "    ## Add agreement scores to dataframe\n",
    "    df['AgreementScores'] = agreement_scores\n",
    "    df['AgreementScore'] = agreement_score\n",
    "\n",
    "    return df"
   ]
  },
  {
   "cell_type": "code",
   "execution_count": 87,
   "metadata": {},
   "outputs": [],
   "source": [
    "def calculate_final_agreement_score(df):\n",
    "    \n",
    "        ## Calculate final agreement score\n",
    "        final_agreement_score = np.mean(df['AgreementScore'])\n",
    "    \n",
    "        return final_agreement_score"
   ]
  },
  {
   "cell_type": "code",
   "execution_count": 88,
   "metadata": {},
   "outputs": [],
   "source": [
    "original_df = create_df_with_results(FT_BERTS)"
   ]
  },
  {
   "cell_type": "code",
   "execution_count": 89,
   "metadata": {},
   "outputs": [
    {
     "data": {
      "text/html": [
       "<div>\n",
       "<style scoped>\n",
       "    .dataframe tbody tr th:only-of-type {\n",
       "        vertical-align: middle;\n",
       "    }\n",
       "\n",
       "    .dataframe tbody tr th {\n",
       "        vertical-align: top;\n",
       "    }\n",
       "\n",
       "    .dataframe thead th {\n",
       "        text-align: right;\n",
       "    }\n",
       "</style>\n",
       "<table border=\"1\" class=\"dataframe\">\n",
       "  <thead>\n",
       "    <tr style=\"text-align: right;\">\n",
       "      <th></th>\n",
       "      <th>Models</th>\n",
       "      <th>Results</th>\n",
       "    </tr>\n",
       "  </thead>\n",
       "  <tbody>\n",
       "    <tr>\n",
       "      <th>0</th>\n",
       "      <td>bert_lr_0.001_wd_0.001_sst2_lr_0.001_wd_0.001</td>\n",
       "      <td>[0, 1, 1, 1, 0, 1, 0, 1, 1, 1, 0, 1, 1, 0, 0, ...</td>\n",
       "    </tr>\n",
       "    <tr>\n",
       "      <th>1</th>\n",
       "      <td>bert_lr_0.001_wd_0.001_sst2_lr_0.001_wd_0.003</td>\n",
       "      <td>[0, 0, 0, 1, 1, 1, 1, 1, 1, 0, 0, 0, 0, 1, 0, ...</td>\n",
       "    </tr>\n",
       "    <tr>\n",
       "      <th>2</th>\n",
       "      <td>bert_lr_0.001_wd_0.001_sst2_lr_0.001_wd_0.002</td>\n",
       "      <td>[1, 1, 1, 0, 1, 1, 0, 0, 0, 0, 0, 0, 0, 1, 0, ...</td>\n",
       "    </tr>\n",
       "  </tbody>\n",
       "</table>\n",
       "</div>"
      ],
      "text/plain": [
       "                                          Models  \\\n",
       "0  bert_lr_0.001_wd_0.001_sst2_lr_0.001_wd_0.001   \n",
       "1  bert_lr_0.001_wd_0.001_sst2_lr_0.001_wd_0.003   \n",
       "2  bert_lr_0.001_wd_0.001_sst2_lr_0.001_wd_0.002   \n",
       "\n",
       "                                             Results  \n",
       "0  [0, 1, 1, 1, 0, 1, 0, 1, 1, 1, 0, 1, 1, 0, 0, ...  \n",
       "1  [0, 0, 0, 1, 1, 1, 1, 1, 1, 0, 0, 0, 0, 1, 0, ...  \n",
       "2  [1, 1, 1, 0, 1, 1, 0, 0, 0, 0, 0, 0, 0, 1, 0, ...  "
      ]
     },
     "execution_count": 89,
     "metadata": {},
     "output_type": "execute_result"
    }
   ],
   "source": [
    "original_df"
   ]
  },
  {
   "cell_type": "code",
   "execution_count": 90,
   "metadata": {},
   "outputs": [],
   "source": [
    "extended_df = create_df_extended(original_df)"
   ]
  },
  {
   "cell_type": "code",
   "execution_count": 91,
   "metadata": {},
   "outputs": [
    {
     "data": {
      "text/html": [
       "<div>\n",
       "<style scoped>\n",
       "    .dataframe tbody tr th:only-of-type {\n",
       "        vertical-align: middle;\n",
       "    }\n",
       "\n",
       "    .dataframe tbody tr th {\n",
       "        vertical-align: top;\n",
       "    }\n",
       "\n",
       "    .dataframe thead th {\n",
       "        text-align: right;\n",
       "    }\n",
       "</style>\n",
       "<table border=\"1\" class=\"dataframe\">\n",
       "  <thead>\n",
       "    <tr style=\"text-align: right;\">\n",
       "      <th></th>\n",
       "      <th>Model1</th>\n",
       "      <th>Model2</th>\n",
       "      <th>Results1</th>\n",
       "      <th>Results2</th>\n",
       "    </tr>\n",
       "  </thead>\n",
       "  <tbody>\n",
       "    <tr>\n",
       "      <th>0</th>\n",
       "      <td>bert_lr_0.001_wd_0.001_sst2_lr_0.001_wd_0.001</td>\n",
       "      <td>bert_lr_0.001_wd_0.001_sst2_lr_0.001_wd_0.003</td>\n",
       "      <td>[0, 1, 1, 1, 0, 1, 0, 1, 1, 1, 0, 1, 1, 0, 0, ...</td>\n",
       "      <td>[0, 0, 0, 1, 1, 1, 1, 1, 1, 0, 0, 0, 0, 1, 0, ...</td>\n",
       "    </tr>\n",
       "    <tr>\n",
       "      <th>1</th>\n",
       "      <td>bert_lr_0.001_wd_0.001_sst2_lr_0.001_wd_0.001</td>\n",
       "      <td>bert_lr_0.001_wd_0.001_sst2_lr_0.001_wd_0.002</td>\n",
       "      <td>[0, 1, 1, 1, 0, 1, 0, 1, 1, 1, 0, 1, 1, 0, 0, ...</td>\n",
       "      <td>[1, 1, 1, 0, 1, 1, 0, 0, 0, 0, 0, 0, 0, 1, 0, ...</td>\n",
       "    </tr>\n",
       "    <tr>\n",
       "      <th>2</th>\n",
       "      <td>bert_lr_0.001_wd_0.001_sst2_lr_0.001_wd_0.003</td>\n",
       "      <td>bert_lr_0.001_wd_0.001_sst2_lr_0.001_wd_0.002</td>\n",
       "      <td>[0, 0, 0, 1, 1, 1, 1, 1, 1, 0, 0, 0, 0, 1, 0, ...</td>\n",
       "      <td>[1, 1, 1, 0, 1, 1, 0, 0, 0, 0, 0, 0, 0, 1, 0, ...</td>\n",
       "    </tr>\n",
       "  </tbody>\n",
       "</table>\n",
       "</div>"
      ],
      "text/plain": [
       "                                          Model1  \\\n",
       "0  bert_lr_0.001_wd_0.001_sst2_lr_0.001_wd_0.001   \n",
       "1  bert_lr_0.001_wd_0.001_sst2_lr_0.001_wd_0.001   \n",
       "2  bert_lr_0.001_wd_0.001_sst2_lr_0.001_wd_0.003   \n",
       "\n",
       "                                          Model2  \\\n",
       "0  bert_lr_0.001_wd_0.001_sst2_lr_0.001_wd_0.003   \n",
       "1  bert_lr_0.001_wd_0.001_sst2_lr_0.001_wd_0.002   \n",
       "2  bert_lr_0.001_wd_0.001_sst2_lr_0.001_wd_0.002   \n",
       "\n",
       "                                            Results1  \\\n",
       "0  [0, 1, 1, 1, 0, 1, 0, 1, 1, 1, 0, 1, 1, 0, 0, ...   \n",
       "1  [0, 1, 1, 1, 0, 1, 0, 1, 1, 1, 0, 1, 1, 0, 0, ...   \n",
       "2  [0, 0, 0, 1, 1, 1, 1, 1, 1, 0, 0, 0, 0, 1, 0, ...   \n",
       "\n",
       "                                            Results2  \n",
       "0  [0, 0, 0, 1, 1, 1, 1, 1, 1, 0, 0, 0, 0, 1, 0, ...  \n",
       "1  [1, 1, 1, 0, 1, 1, 0, 0, 0, 0, 0, 0, 0, 1, 0, ...  \n",
       "2  [1, 1, 1, 0, 1, 1, 0, 0, 0, 0, 0, 0, 0, 1, 0, ...  "
      ]
     },
     "execution_count": 91,
     "metadata": {},
     "output_type": "execute_result"
    }
   ],
   "source": [
    "extended_df"
   ]
  },
  {
   "cell_type": "code",
   "execution_count": 92,
   "metadata": {},
   "outputs": [],
   "source": [
    "extended_df_with_agreements = calculate_agreement_score(extended_df)"
   ]
  },
  {
   "cell_type": "code",
   "execution_count": 94,
   "metadata": {},
   "outputs": [
    {
     "data": {
      "text/html": [
       "<div>\n",
       "<style scoped>\n",
       "    .dataframe tbody tr th:only-of-type {\n",
       "        vertical-align: middle;\n",
       "    }\n",
       "\n",
       "    .dataframe tbody tr th {\n",
       "        vertical-align: top;\n",
       "    }\n",
       "\n",
       "    .dataframe thead th {\n",
       "        text-align: right;\n",
       "    }\n",
       "</style>\n",
       "<table border=\"1\" class=\"dataframe\">\n",
       "  <thead>\n",
       "    <tr style=\"text-align: right;\">\n",
       "      <th></th>\n",
       "      <th>Model1</th>\n",
       "      <th>Model2</th>\n",
       "      <th>Results1</th>\n",
       "      <th>Results2</th>\n",
       "      <th>AgreementScores</th>\n",
       "      <th>AgreementScore</th>\n",
       "    </tr>\n",
       "  </thead>\n",
       "  <tbody>\n",
       "    <tr>\n",
       "      <th>0</th>\n",
       "      <td>bert_lr_0.001_wd_0.001_sst2_lr_0.001_wd_0.001</td>\n",
       "      <td>bert_lr_0.001_wd_0.001_sst2_lr_0.001_wd_0.003</td>\n",
       "      <td>[0, 1, 1, 1, 0, 1, 0, 1, 1, 1, 0, 1, 1, 0, 0, ...</td>\n",
       "      <td>[0, 0, 0, 1, 1, 1, 1, 1, 1, 0, 0, 0, 0, 1, 0, ...</td>\n",
       "      <td>[1, 0, 0, 1, 0, 1, 0, 1, 1, 0, 1, 0, 0, 0, 1, ...</td>\n",
       "      <td>0.52</td>\n",
       "    </tr>\n",
       "    <tr>\n",
       "      <th>1</th>\n",
       "      <td>bert_lr_0.001_wd_0.001_sst2_lr_0.001_wd_0.001</td>\n",
       "      <td>bert_lr_0.001_wd_0.001_sst2_lr_0.001_wd_0.002</td>\n",
       "      <td>[0, 1, 1, 1, 0, 1, 0, 1, 1, 1, 0, 1, 1, 0, 0, ...</td>\n",
       "      <td>[1, 1, 1, 0, 1, 1, 0, 0, 0, 0, 0, 0, 0, 1, 0, ...</td>\n",
       "      <td>[0, 1, 1, 0, 0, 1, 1, 0, 0, 0, 1, 0, 0, 0, 1, ...</td>\n",
       "      <td>0.42</td>\n",
       "    </tr>\n",
       "    <tr>\n",
       "      <th>2</th>\n",
       "      <td>bert_lr_0.001_wd_0.001_sst2_lr_0.001_wd_0.003</td>\n",
       "      <td>bert_lr_0.001_wd_0.001_sst2_lr_0.001_wd_0.002</td>\n",
       "      <td>[0, 0, 0, 1, 1, 1, 1, 1, 1, 0, 0, 0, 0, 1, 0, ...</td>\n",
       "      <td>[1, 1, 1, 0, 1, 1, 0, 0, 0, 0, 0, 0, 0, 1, 0, ...</td>\n",
       "      <td>[0, 0, 0, 0, 1, 1, 0, 0, 0, 1, 1, 1, 1, 1, 1, ...</td>\n",
       "      <td>0.54</td>\n",
       "    </tr>\n",
       "  </tbody>\n",
       "</table>\n",
       "</div>"
      ],
      "text/plain": [
       "                                          Model1  \\\n",
       "0  bert_lr_0.001_wd_0.001_sst2_lr_0.001_wd_0.001   \n",
       "1  bert_lr_0.001_wd_0.001_sst2_lr_0.001_wd_0.001   \n",
       "2  bert_lr_0.001_wd_0.001_sst2_lr_0.001_wd_0.003   \n",
       "\n",
       "                                          Model2  \\\n",
       "0  bert_lr_0.001_wd_0.001_sst2_lr_0.001_wd_0.003   \n",
       "1  bert_lr_0.001_wd_0.001_sst2_lr_0.001_wd_0.002   \n",
       "2  bert_lr_0.001_wd_0.001_sst2_lr_0.001_wd_0.002   \n",
       "\n",
       "                                            Results1  \\\n",
       "0  [0, 1, 1, 1, 0, 1, 0, 1, 1, 1, 0, 1, 1, 0, 0, ...   \n",
       "1  [0, 1, 1, 1, 0, 1, 0, 1, 1, 1, 0, 1, 1, 0, 0, ...   \n",
       "2  [0, 0, 0, 1, 1, 1, 1, 1, 1, 0, 0, 0, 0, 1, 0, ...   \n",
       "\n",
       "                                            Results2  \\\n",
       "0  [0, 0, 0, 1, 1, 1, 1, 1, 1, 0, 0, 0, 0, 1, 0, ...   \n",
       "1  [1, 1, 1, 0, 1, 1, 0, 0, 0, 0, 0, 0, 0, 1, 0, ...   \n",
       "2  [1, 1, 1, 0, 1, 1, 0, 0, 0, 0, 0, 0, 0, 1, 0, ...   \n",
       "\n",
       "                                     AgreementScores  AgreementScore  \n",
       "0  [1, 0, 0, 1, 0, 1, 0, 1, 1, 0, 1, 0, 0, 0, 1, ...            0.52  \n",
       "1  [0, 1, 1, 0, 0, 1, 1, 0, 0, 0, 1, 0, 0, 0, 1, ...            0.42  \n",
       "2  [0, 0, 0, 0, 1, 1, 0, 0, 0, 1, 1, 1, 1, 1, 1, ...            0.54  "
      ]
     },
     "execution_count": 94,
     "metadata": {},
     "output_type": "execute_result"
    }
   ],
   "source": [
    "extended_df_with_agreements"
   ]
  },
  {
   "cell_type": "code",
   "execution_count": 95,
   "metadata": {},
   "outputs": [],
   "source": [
    "output = calculate_final_agreement_score(extended_df_with_agreements)"
   ]
  },
  {
   "cell_type": "code",
   "execution_count": 96,
   "metadata": {},
   "outputs": [
    {
     "data": {
      "text/plain": [
       "0.49333333333333335"
      ]
     },
     "execution_count": 96,
     "metadata": {},
     "output_type": "execute_result"
    }
   ],
   "source": [
    "output"
   ]
  },
  {
   "cell_type": "code",
   "execution_count": null,
   "metadata": {},
   "outputs": [],
   "source": []
  }
 ],
 "metadata": {
  "kernelspec": {
   "display_name": "imp-env",
   "language": "python",
   "name": "python3"
  },
  "language_info": {
   "codemirror_mode": {
    "name": "ipython",
    "version": 3
   },
   "file_extension": ".py",
   "mimetype": "text/x-python",
   "name": "python",
   "nbconvert_exporter": "python",
   "pygments_lexer": "ipython3",
   "version": "3.11.5"
  }
 },
 "nbformat": 4,
 "nbformat_minor": 2
}
