{
 "cells": [
  {
   "cell_type": "markdown",
   "metadata": {},
   "source": [
    "# Model Zoo Analysis"
   ]
  },
  {
   "cell_type": "markdown",
   "metadata": {},
   "source": [
    "## 1. Import modules"
   ]
  },
  {
   "cell_type": "code",
   "execution_count": 54,
   "metadata": {},
   "outputs": [],
   "source": [
    "import os\n",
    "import torch\n",
    "import numpy as np\n",
    "from transformers import BertForMaskedLM"
   ]
  },
  {
   "cell_type": "markdown",
   "metadata": {},
   "source": [
    "## 2. Set global variables"
   ]
  },
  {
   "cell_type": "code",
   "execution_count": 12,
   "metadata": {},
   "outputs": [],
   "source": [
    "EVALUTED_TASK = \"sentiment-classification\" ## write \"question-answering\" vs. \"sentiment-classification\" for other option\n",
    "MODEL_PATH = f'../{EVALUTED_TASK}/models'\n",
    "\n",
    "MODEL_PATH = \"/Users/kaanaydin/Library/CloudStorage/GoogleDrive-implanguagetransformers@gmail.com/My Drive/imp-project/pre-trained-berts/models_gpu\" ## for debugging"
   ]
  },
  {
   "cell_type": "code",
   "execution_count": 55,
   "metadata": {},
   "outputs": [],
   "source": [
    "def model_names(PATH):\n",
    "\n",
    "    models = []\n",
    "    \n",
    "    ## get all models\n",
    "    for model in os.listdir(PATH):\n",
    "        models.append(model)\n",
    "    \n",
    "    ## remove ds store\n",
    "    models.remove('.DS_Store')\n",
    "    return models\n",
    "\n",
    "def flatten_model_parameters(model):\n",
    "    with torch.no_grad():\n",
    "        param_tensors = [param.data.cpu().numpy().flatten() for param in model.parameters()]\n",
    "    flat_params = np.concatenate(param_tensors)\n",
    "    return flat_params\n",
    "\n",
    "def model_weights(models):\n",
    "        ## get all weights\n",
    "        weights = []\n",
    "        for model in models:\n",
    "            ## Open SaveTensor\n",
    "            model_path = f'{MODEL_PATH}/{model}/epoch_10'\n",
    "            model = BertForMaskedLM.from_pretrained(model_path) ## \"BertForMaskedLM\" to be changed for QA and Classifcation\n",
    "            model_weights = flatten_model_parameters(model)\n",
    "            weights.append(model_weights)\n",
    "        return weights"
   ]
  },
  {
   "cell_type": "markdown",
   "metadata": {},
   "source": [
    "## 3. Download all models"
   ]
  },
  {
   "cell_type": "code",
   "execution_count": 62,
   "metadata": {},
   "outputs": [],
   "source": [
    "## Create list of all model names\n",
    "models = model_names(MODEL_PATH)"
   ]
  },
  {
   "cell_type": "code",
   "execution_count": 56,
   "metadata": {},
   "outputs": [],
   "source": [
    "## Retrieve model weights\n",
    "weights = model_weights(models)"
   ]
  },
  {
   "cell_type": "markdown",
   "metadata": {},
   "source": [
    "## 4. Model Zoo Analysis"
   ]
  },
  {
   "cell_type": "markdown",
   "metadata": {},
   "source": [
    "### 4.1 Agreement Scores"
   ]
  },
  {
   "cell_type": "code",
   "execution_count": null,
   "metadata": {},
   "outputs": [],
   "source": []
  },
  {
   "cell_type": "code",
   "execution_count": null,
   "metadata": {},
   "outputs": [],
   "source": []
  }
 ],
 "metadata": {
  "kernelspec": {
   "display_name": "imp-env",
   "language": "python",
   "name": "python3"
  },
  "language_info": {
   "codemirror_mode": {
    "name": "ipython",
    "version": 3
   },
   "file_extension": ".py",
   "mimetype": "text/x-python",
   "name": "python",
   "nbconvert_exporter": "python",
   "pygments_lexer": "ipython3",
   "version": "3.11.5"
  }
 },
 "nbformat": 4,
 "nbformat_minor": 2
}
