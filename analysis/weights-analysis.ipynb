{
 "cells": [
  {
   "cell_type": "markdown",
   "metadata": {},
   "source": [
    "# Model Zoo Analysis - Weights Analysis"
   ]
  },
  {
   "cell_type": "markdown",
   "metadata": {},
   "source": [
    "## 1. Importing modules"
   ]
  },
  {
   "cell_type": "code",
   "execution_count": 10,
   "metadata": {},
   "outputs": [],
   "source": [
    "import os\n",
    "import torch\n",
    "from torch import nn\n",
    "from itertools import combinations\n",
    "import pandas as pd"
   ]
  },
  {
   "cell_type": "markdown",
   "metadata": {},
   "source": [
    "## 2. Paths"
   ]
  },
  {
   "cell_type": "code",
   "execution_count": 2,
   "metadata": {},
   "outputs": [],
   "source": [
    "FT_BERTS = \"/Users/kaanaydin/Library/CloudStorage/GoogleDrive-implanguagetransformers@gmail.com/My Drive/imp-project/sentiment-classification/finetuned-berts/\""
   ]
  },
  {
   "cell_type": "markdown",
   "metadata": {},
   "source": [
    "## 3. Model"
   ]
  },
  {
   "cell_type": "code",
   "execution_count": 3,
   "metadata": {},
   "outputs": [],
   "source": [
    "class SSTClassifier(nn.Module):\n",
    "    def __init__(self, backbone):\n",
    "        super().__init__()\n",
    "\n",
    "        self.backbone = backbone\n",
    "\n",
    "        self.mlp = nn.Sequential(\n",
    "            nn.Linear(768, 256),  # Initial Linear layer\n",
    "            nn.ReLU(),  # Activation function\n",
    "            nn.Linear(256, 1)  # Final Linear layer leading to binary classification\n",
    "        )\n",
    "\n",
    "    def forward(self, x, mask):\n",
    "        last_hidden_state = self.backbone(x, mask)[0]  # B, T, C\n",
    "        cls_token = last_hidden_state[:, 0, :]  # B, C\n",
    "        output = self.mlp(cls_token)\n",
    "\n",
    "        return output"
   ]
  },
  {
   "cell_type": "markdown",
   "metadata": {},
   "source": [
    "## 3. Retrieving weights"
   ]
  },
  {
   "cell_type": "code",
   "execution_count": 4,
   "metadata": {},
   "outputs": [],
   "source": [
    "def vectorize_weights(model):\n",
    "    return torch.cat([param.data.view(-1) for param in model.parameters()])"
   ]
  },
  {
   "cell_type": "code",
   "execution_count": 17,
   "metadata": {},
   "outputs": [],
   "source": [
    "def create_df_with_weights(path):\n",
    "    ## Get all models\n",
    "    models = os.listdir(path)\n",
    "\n",
    "    ## Remove .DS_Store (if available)\n",
    "    if '.DS_Store' in models:\n",
    "        models.remove('.DS_Store')\n",
    "\n",
    "    ## Path to each model for the last (5th) epoch\n",
    "    model_paths = [os.path.join(path, model, model + \"_epoch_5.pth\") for model in models]\n",
    "\n",
    "    ## Create dataframe of models\n",
    "    df = pd.DataFrame({'Models': models})\n",
    "\n",
    "    ## ## Create all possible combinations of models\n",
    "    combs = list(combinations(df['Models'], 2))\n",
    "    \n",
    "    ## Create dataframe of combinations\n",
    "    df_combinations = pd.DataFrame(combs, columns=['Model1', 'Model2'])\n",
    "\n",
    "    ## Get weights for each model\n",
    "    model_weights = []\n",
    "\n",
    "    ## Iterate over each model\n",
    "    for model_path in model_paths:\n",
    "        model = torch.load(model_path)\n",
    "        model.eval()\n",
    "        model.cpu()\n",
    "        weights = vectorize_weights(model)\n",
    "        model_weights.append(weights)\n",
    "\n",
    "    return df_combinations, models, model_weights"
   ]
  },
  {
   "cell_type": "code",
   "execution_count": 18,
   "metadata": {},
   "outputs": [],
   "source": [
    "def calculate_cosine_similarity(w1, w2):\n",
    "    \n",
    "    ## Calculate dot product\n",
    "    dot_product = torch.dot(w1, w2)\n",
    "\n",
    "    ## Calculate norms\n",
    "    norm_w1 = torch.norm(w1, p=2)\n",
    "    norm_w2 = torch.norm(w2, p=2)\n",
    "\n",
    "    ## Calculate cosine similarity\n",
    "    cosine_similarity = 1 - (dot_product / (norm_w1 * norm_w2))\n",
    "\n",
    "    return cosine_similarity"
   ]
  },
  {
   "cell_type": "code",
   "execution_count": 29,
   "metadata": {},
   "outputs": [],
   "source": [
    "def apply_cosine_similarity(df, model_list, model_weights):\n",
    "    \n",
    "    ## Create column for cosine similarity\n",
    "    cosine_similarities = []\n",
    "\n",
    "    ## Iterate over each row\n",
    "    for index, row in df.iterrows():\n",
    "        \n",
    "        ## Get model weights\n",
    "        w1 = model_weights[model_list.index(row['Model1'])]\n",
    "        w2 = model_weights[model_list.index(row['Model2'])]\n",
    "\n",
    "        ## Calculate cosine similarity\n",
    "        cosine_similarity = calculate_cosine_similarity(w1, w2)\n",
    "\n",
    "        ## Append to list\n",
    "        cosine_similarities.append(cosine_similarity)\n",
    "    \n",
    "    ## Add cosine similarity column to dataframe\n",
    "    df['Cosine Similarity'] = cosine_similarities\n",
    "\n",
    "    return df"
   ]
  },
  {
   "cell_type": "code",
   "execution_count": 30,
   "metadata": {},
   "outputs": [],
   "source": [
    "df, model_list, model_weights = create_df_with_weights(FT_BERTS) ## Check if all weights have been loaded, current number seems too low"
   ]
  },
  {
   "cell_type": "code",
   "execution_count": 31,
   "metadata": {},
   "outputs": [
    {
     "data": {
      "text/html": [
       "<div>\n",
       "<style scoped>\n",
       "    .dataframe tbody tr th:only-of-type {\n",
       "        vertical-align: middle;\n",
       "    }\n",
       "\n",
       "    .dataframe tbody tr th {\n",
       "        vertical-align: top;\n",
       "    }\n",
       "\n",
       "    .dataframe thead th {\n",
       "        text-align: right;\n",
       "    }\n",
       "</style>\n",
       "<table border=\"1\" class=\"dataframe\">\n",
       "  <thead>\n",
       "    <tr style=\"text-align: right;\">\n",
       "      <th></th>\n",
       "      <th>Model1</th>\n",
       "      <th>Model2</th>\n",
       "      <th>Cosine Similarity</th>\n",
       "    </tr>\n",
       "  </thead>\n",
       "  <tbody>\n",
       "    <tr>\n",
       "      <th>0</th>\n",
       "      <td>huggingface_sst2_lr_2e-05_wd_0.01</td>\n",
       "      <td>huggingface_sst2_lr_2e-05_wd_0.02</td>\n",
       "      <td>tensor(-0.0292)</td>\n",
       "    </tr>\n",
       "  </tbody>\n",
       "</table>\n",
       "</div>"
      ],
      "text/plain": [
       "                              Model1                             Model2  \\\n",
       "0  huggingface_sst2_lr_2e-05_wd_0.01  huggingface_sst2_lr_2e-05_wd_0.02   \n",
       "\n",
       "  Cosine Similarity  \n",
       "0   tensor(-0.0292)  "
      ]
     },
     "execution_count": 31,
     "metadata": {},
     "output_type": "execute_result"
    }
   ],
   "source": [
    "apply_cosine_similarity(df, model_list, model_weights)"
   ]
  }
 ],
 "metadata": {
  "kernelspec": {
   "display_name": "imp-env",
   "language": "python",
   "name": "python3"
  },
  "language_info": {
   "codemirror_mode": {
    "name": "ipython",
    "version": 3
   },
   "file_extension": ".py",
   "mimetype": "text/x-python",
   "name": "python",
   "nbconvert_exporter": "python",
   "pygments_lexer": "ipython3",
   "version": "3.11.5"
  }
 },
 "nbformat": 4,
 "nbformat_minor": 2
}
